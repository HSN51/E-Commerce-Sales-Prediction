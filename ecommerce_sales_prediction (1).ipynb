
{
 "cells": [
  {
   "cell_type": "markdown",
   "id": "title",
   "metadata": {},
   "source": [
    "# 📊 E-Commerce Sales Prediction (ML & Data Analytics)\n",
    "## 🚀 Machine Learning Model for Sales Forecasting\n",
    "This project aims to analyze historical e-commerce sales data and predict future sales trends using machine learning models."
   ]
  },
  {
   "cell_type": "markdown",
   "id": "imports-desc",
   "metadata": {},
   "source": [
    "## 📌 Step 1: Importing Necessary Libraries\n",
    "We will use various Python libraries for data preprocessing, visualization, and machine learning."
   ]
  },
  {
   "cell_type": "code",
   "execution_count": null,
   "id": "imports",
   "metadata": {},
   "outputs": [],
   "source": [
    "import numpy as np\n",
    "import pandas as pd\n",
    "import matplotlib.pyplot as plt\n",
    "import seaborn as sns\n",
    "import warnings\n",
    "from sklearn.model_selection import train_test_split\n",
    "from sklearn.preprocessing import LabelEncoder, StandardScaler\n",
    "from sklearn.linear_model import LinearRegression\n",
    "from sklearn.ensemble import RandomForestRegressor\n",
    "from sklearn.metrics import mean_absolute_error, mean_squared_error, r2_score\n",
    "\n",
    "warnings.filterwarnings('ignore')"
   ]
  },
  {
   "cell_type": "markdown",
   "id": "load-data-desc",
   "metadata": {},
   "source": [
    "## 📌 Step 2: Load and Explore Data\n",
    "We will load the dataset and perform an initial exploration to understand its structure."
   ]
  },
  {
   "cell_type": "code",
   "execution_count": null,
   "id": "load-data",
   "metadata": {},
   "outputs": [],
   "source": [
    "df = pd.read_csv('../input/walmart.csv')\n",
    "df.head()"
   ]
  },
  {
   "cell_type": "markdown",
   "id": "eda-desc",
   "metadata": {},
   "source": [
    "## 📌 Step 3: Exploratory Data Analysis (EDA)\n",
    "Perform basic data analysis, including checking for missing values and statistical summary."
   ]
  },
  {
   "cell_type": "code",
   "execution_count": null,
   "id": "eda",
   "metadata": {},
   "outputs": [],
   "source": [
    "df.info()\n",
    "df.describe()\n",
    "df.isnull().sum()"
   ]
  },
  {
   "cell_type": "markdown",
   "id": "feature-eng-desc",
   "metadata": {},
   "source": [
    "## 📌 Step 4: Feature Engineering\n",
    "Transform categorical features into numerical representations and create new derived features."
   ]
  },
  {
   "cell_type": "code",
   "execution_count": null,
   "id": "feature-engineering",
   "metadata": {},
   "outputs": [],
   "source": [
    "df_encoded = df.copy()\n",
    "label_encoders = {}\n",
    "\n",
    "for col in ['Gender', 'Age', 'City_Category', 'Stay_In_Current_City_Years']:\n",
    "    le = LabelEncoder()\n",
    "    df_encoded[col] = le.fit_transform(df_encoded[col])\n",
    "    label_encoders[col] = le\n",
    "\n",
    "df_encoded['Total_Spending'] = df_encoded.groupby('User_ID')['Purchase'].transform('sum')\n",
    "df_encoded['Avg_Product_Purchase'] = df_encoded.groupby('Product_ID')['Purchase'].transform('mean')\n",
    "df_encoded['Purchase_Count'] = df_encoded.groupby('User_ID')['Purchase'].transform('count')\n",
    "df_final = df_encoded.drop(columns=['User_ID', 'Product_ID'])\n",
    "\n",
    "df_final.head()"
   ]
  },
  {
   "cell_type": "markdown",
   "id": "split-data-desc",
   "metadata": {},
   "source": [
    "## 📌 Step 5: Data Splitting\n",
    "Split the dataset into training and testing sets for model evaluation."
   ]
  },
  {
   "cell_type": "code",
   "execution_count": null,
   "id": "split-data",
   "metadata": {},
   "outputs": [],
   "source": [
    "X = df_final.drop(columns=['Purchase'])\n",
    "y = df_final['Purchase']\n",
    "\n",
    "X_train, X_test, y_train, y_test = train_test_split(X, y, test_size=0.2, random_state=42)\n",
    "\n",
    "scaler = StandardScaler()\n",
    "X_train_scaled = scaler.fit_transform(X_train)\n",
    "X_test_scaled = scaler.transform(X_test)"
   ]
  },
  {
   "cell_type": "markdown",
   "id": "train-models-desc",
   "metadata": {},
   "source": [
    "## 📌 Step 6: Train Machine Learning Models\n",
    "Train and evaluate different regression models."
   ]
  },
  {
   "cell_type": "code",
   "execution_count": null,
   "id": "train-models",
   "metadata": {},
   "outputs": [],
   "source": [
    "def evaluate_model(y_test, y_pred, model_name):\n",
    "    mae = mean_absolute_error(y_test, y_pred)\n",
    "    mse = mean_squared_error(y_test, y_pred)\n",
    "    rmse = mse ** 0.5\n",
    "    r2 = r2_score(y_test, y_pred)\n",
    "    return {\n",
    "        'Model': model_name,\n",
    "        'MAE': mae,\n",
    "        'RMSE': rmse,\n",
    "        'R2 Score': r2\n",
    "    }\n",
    "\n",
    "# Linear Regression\n",
    "lr_model = LinearRegression()\n",
    "lr_model.fit(X_train_scaled, y_train)\n",
    "y_pred_lr = lr_model.predict(X_test_scaled)\n",
    "\n",
    "# Random Forest\n",
    "rf_model = RandomForestRegressor(n_estimators=50, max_depth=10, random_state=42)\n",
    "rf_model.fit(X_train, y_train)\n",
    "y_pred_rf = rf_model.predict(X_test)\n",
    "\n",
    "# Model Evaluation\n",
    "lr_results = evaluate_model(y_test, y_pred_lr, 'Linear Regression')\n",
    "rf_results = evaluate_model(y_test, y_pred_rf, 'Random Forest')\n",
    "\n",
    "model_comparison = pd.DataFrame([lr_results, rf_results])\n",
    "print(model_comparison)"
   ]
  },
  {
   "cell_type": "markdown",
   "id": "export-data-desc",
   "metadata": {},
   "source": [
    "## 📌 Step 7: Export Processed Data\n",
    "Save the processed dataset for further analysis."
   ]
  },
  {
   "cell_type": "code",
   "execution_count": null,
   "id": "export-data",
   "metadata": {},
   "outputs": [],
   "source": [
    "df_final.to_csv('processed_ecommerce_data.csv', index=False)\n",
    "print('Dataset successfully saved!')"
   ]
  }
 ],
 "metadata": {
  "kernelspec": {
   "display_name": "Python 3",
   "language": "python",
   "name": "python3"
  },
  "language_info": {
   "file_extension": ".py",
   "mimetype": "text/x-python",
   "name": "python",
   "nbconvert_exporter": "python",
   "pygments_lexer": "ipython3",
   "version": "3.8.10"
  }
 },
 "nbformat": 4,
 "nbformat_minor": 4
}
